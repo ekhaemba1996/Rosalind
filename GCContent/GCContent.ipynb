{
 "cells": [
  {
   "cell_type": "code",
   "execution_count": 1,
   "metadata": {},
   "outputs": [],
   "source": [
    "import os\n",
    "import sys\n",
    "module_path = os.path.abspath(os.path.join('..'))\n",
    "if module_path not in sys.path:\n",
    "    sys.path.append(module_path)"
   ]
  },
  {
   "cell_type": "code",
   "execution_count": 2,
   "metadata": {},
   "outputs": [],
   "source": [
    "from commonModules import read_file\n",
    "import re"
   ]
  },
  {
   "cell_type": "code",
   "execution_count": 3,
   "metadata": {},
   "outputs": [],
   "source": [
    "contents = read_file('rosalind_gc.txt')"
   ]
  },
  {
   "cell_type": "code",
   "execution_count": 4,
   "metadata": {},
   "outputs": [],
   "source": [
    "def parse_contents(contents):\n",
    "    contents = contents.replace('\\n','')\n",
    "    content_list = re.split('>(Rosalind_\\d+)', contents)\n",
    "    content_list = content_list[1:]\n",
    "    keys = content_list[::2]\n",
    "    vals = content_list[1::2]\n",
    "    ros_dict = {key:vals[i] for (i,key) in enumerate(keys)}\n",
    "    return ros_dict"
   ]
  },
  {
   "cell_type": "code",
   "execution_count": 5,
   "metadata": {},
   "outputs": [],
   "source": [
    "rosalind_dictionary = parse_contents(contents)"
   ]
  },
  {
   "cell_type": "code",
   "execution_count": 6,
   "metadata": {},
   "outputs": [],
   "source": [
    "def get_gc(rosalind_dict):\n",
    "    gc_count_dict = {k:(v.count('G')+v.count('C'))/len(v)*100 for k,v in rosalind_dict.items()}\n",
    "    resultant_tup = max(gc_count_dict.items(), key = lambda e:e[1])\n",
    "    return resultant_tup"
   ]
  },
  {
   "cell_type": "code",
   "execution_count": 7,
   "metadata": {},
   "outputs": [
    {
     "name": "stdout",
     "output_type": "stream",
     "text": [
      "Rosalind_0895\n",
      "50.46923879040668\n"
     ]
    }
   ],
   "source": [
    "for val in get_gc(rosalind_dictionary):\n",
    "    print(val)"
   ]
  }
 ],
 "metadata": {
  "kernelspec": {
   "display_name": "Python 3",
   "language": "python",
   "name": "python3"
  },
  "language_info": {
   "codemirror_mode": {
    "name": "ipython",
    "version": 3
   },
   "file_extension": ".py",
   "mimetype": "text/x-python",
   "name": "python",
   "nbconvert_exporter": "python",
   "pygments_lexer": "ipython3",
   "version": "3.7.3"
  }
 },
 "nbformat": 4,
 "nbformat_minor": 2
}
