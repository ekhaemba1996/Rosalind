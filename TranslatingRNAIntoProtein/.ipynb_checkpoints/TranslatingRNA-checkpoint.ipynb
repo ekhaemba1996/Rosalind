{
 "cells": [
  {
   "cell_type": "code",
   "execution_count": 1,
   "metadata": {},
   "outputs": [],
   "source": [
    "def read_file(filename):\n",
    "    with open(filename) as file:\n",
    "        data = file.read()\n",
    "        return data"
   ]
  },
  {
   "cell_type": "code",
   "execution_count": 36,
   "metadata": {},
   "outputs": [],
   "source": [
    "contents = read_file(\"RNACodonTable.txt\")"
   ]
  },
  {
   "cell_type": "code",
   "execution_count": 45,
   "metadata": {},
   "outputs": [],
   "source": [
    "def parse_contents(contents):\n",
    "    # Split contents into non whitespace values\n",
    "    contents = contents.split()\n",
    "    # The dictionary that will hold all of our key/value pairs\n",
    "    result_dict = {}\n",
    "    keys = contents[::2]\n",
    "    vals = contents[1::2]\n",
    "    zipped_list = list(zip(keys,vals))\n",
    "    for key, val in zipped_list:\n",
    "        result_dict[key] = val\n",
    "    return result_dict"
   ]
  },
  {
   "cell_type": "code",
   "execution_count": 46,
   "metadata": {},
   "outputs": [
    {
     "data": {
      "text/plain": [
       "{'UUU': 'F',\n",
       " 'CUU': 'L',\n",
       " 'AUU': 'I',\n",
       " 'GUU': 'V',\n",
       " 'UUC': 'F',\n",
       " 'CUC': 'L',\n",
       " 'AUC': 'I',\n",
       " 'GUC': 'V',\n",
       " 'UUA': 'L',\n",
       " 'CUA': 'L',\n",
       " 'AUA': 'I',\n",
       " 'GUA': 'V',\n",
       " 'UUG': 'L',\n",
       " 'CUG': 'L',\n",
       " 'AUG': 'M',\n",
       " 'GUG': 'V',\n",
       " 'UCU': 'S',\n",
       " 'CCU': 'P',\n",
       " 'ACU': 'T',\n",
       " 'GCU': 'A',\n",
       " 'UCC': 'S',\n",
       " 'CCC': 'P',\n",
       " 'ACC': 'T',\n",
       " 'GCC': 'A',\n",
       " 'UCA': 'S',\n",
       " 'CCA': 'P',\n",
       " 'ACA': 'T',\n",
       " 'GCA': 'A',\n",
       " 'UCG': 'S',\n",
       " 'CCG': 'P',\n",
       " 'ACG': 'T',\n",
       " 'GCG': 'A',\n",
       " 'UAU': 'Y',\n",
       " 'CAU': 'H',\n",
       " 'AAU': 'N',\n",
       " 'GAU': 'D',\n",
       " 'UAC': 'Y',\n",
       " 'CAC': 'H',\n",
       " 'AAC': 'N',\n",
       " 'GAC': 'D',\n",
       " 'UAA': 'Stop',\n",
       " 'CAA': 'Q',\n",
       " 'AAA': 'K',\n",
       " 'GAA': 'E',\n",
       " 'UAG': 'Stop',\n",
       " 'CAG': 'Q',\n",
       " 'AAG': 'K',\n",
       " 'GAG': 'E',\n",
       " 'UGU': 'C',\n",
       " 'CGU': 'R',\n",
       " 'AGU': 'S',\n",
       " 'GGU': 'G',\n",
       " 'UGC': 'C',\n",
       " 'CGC': 'R',\n",
       " 'AGC': 'S',\n",
       " 'GGC': 'G',\n",
       " 'UGA': 'Stop',\n",
       " 'CGA': 'R',\n",
       " 'AGA': 'R',\n",
       " 'GGA': 'G',\n",
       " 'UGG': 'W',\n",
       " 'CGG': 'R',\n",
       " 'AGG': 'R',\n",
       " 'GGG': 'G'}"
      ]
     },
     "execution_count": 46,
     "metadata": {},
     "output_type": "execute_result"
    }
   ],
   "source": [
    "parse_contents(contents)"
   ]
  },
  {
   "cell_type": "code",
   "execution_count": null,
   "metadata": {},
   "outputs": [],
   "source": []
  }
 ],
 "metadata": {
  "kernelspec": {
   "display_name": "Python 3",
   "language": "python",
   "name": "python3"
  },
  "language_info": {
   "codemirror_mode": {
    "name": "ipython",
    "version": 3
   },
   "file_extension": ".py",
   "mimetype": "text/x-python",
   "name": "python",
   "nbconvert_exporter": "python",
   "pygments_lexer": "ipython3",
   "version": "3.7.3"
  }
 },
 "nbformat": 4,
 "nbformat_minor": 2
}
