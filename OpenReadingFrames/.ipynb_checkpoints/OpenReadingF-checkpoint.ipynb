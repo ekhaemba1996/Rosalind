{
 "cells": [
  {
   "cell_type": "code",
   "execution_count": 1,
   "metadata": {},
   "outputs": [],
   "source": [
    "def parsefasta(file):\n",
    "    df = open(file, \"r\")\n",
    "    contents = df.read()\n",
    "    df.close()\n",
    "    strings = contents.split()\n",
    "    seq = ''.join(strings[1:])\n",
    "    return seq"
   ]
  },
  {
   "cell_type": "code",
   "execution_count": 2,
   "metadata": {},
   "outputs": [],
   "source": [
    "def parseCodonTable(file):\n",
    "    f = open(file,\"r\")\n",
    "    contents = f.read()\n",
    "    f.close()\n",
    "    codonTable = {}\n",
    "    strings = contents.split()\n",
    "    codons = strings[0::2]\n",
    "    aminoacids = strings[1::2]\n",
    "    for i in range(0,len(codons),1):\n",
    "        key = codons[i]\n",
    "        value = aminoacids[i]\n",
    "        codonTable[key] = value\n",
    "    return codonTable"
   ]
  },
  {
   "cell_type": "code",
   "execution_count": 3,
   "metadata": {},
   "outputs": [],
   "source": [
    "def revC(complement):\n",
    "    revcontent = \"\"\n",
    "    for i in complement[::-1]:\n",
    "        if i == \"T\":\n",
    "            revcontent += \"A\"\n",
    "        if i == \"A\":\n",
    "            revcontent += \"T\"\n",
    "        if i == \"C\":\n",
    "            revcontent += \"G\"\n",
    "        if i == \"G\":\n",
    "            revcontent += \"C\"      \n",
    "    return(revcontent)"
   ]
  },
  {
   "cell_type": "code",
   "execution_count": 4,
   "metadata": {},
   "outputs": [],
   "source": [
    "def dnaToRNA(dnastring):\n",
    "    dna = dnastring\n",
    "    rna =\"\"\n",
    "    for i in dna:\n",
    "        if i == \"T\":\n",
    "            rna += \"U\"\n",
    "        else:\n",
    "            rna += i\n",
    "    return rna"
   ]
  },
  {
   "cell_type": "code",
   "execution_count": 44,
   "metadata": {},
   "outputs": [],
   "source": [
    "def RNAtoAmino(seq, codon):\n",
    "    protein = ''\n",
    "    for i in range(0, len(seq), 3):\n",
    "        protein += codon[seq[i:i+3]]\n",
    "    return protein"
   ]
  },
  {
   "cell_type": "code",
   "execution_count": 67,
   "metadata": {},
   "outputs": [],
   "source": [
    "def readingFrames(rna,codontable):\n",
    "    rna = rna\n",
    "    rnaLen = len(rna)\n",
    "    codonTable = codontable\n",
    "    seqlist = []\n",
    "    reading = False\n",
    "    index = 0\n",
    "    read = ''\n",
    "    protein = [None, None]\n",
    "    while index < rnaLen:\n",
    "        if index + 3 > rnaLen:\n",
    "            break\n",
    "        read = rna[index:index+3]\n",
    "        amino = codonTable[read]\n",
    "        if amino == 'M' and not reading:\n",
    "            protein[0] = index\n",
    "            reading = True\n",
    "        elif amino == 'Stop' and reading:\n",
    "            protein[1] = index\n",
    "            seqlist.append(RNAtoAmino(rna[protein[0]:protein[1]], codontable))\n",
    "            index = protein[0]\n",
    "            protein = [None, None]\n",
    "            reading = False\n",
    "        if reading:\n",
    "            index += 3\n",
    "        else:\n",
    "            index += 1\n",
    "    return seqlist"
   ]
  },
  {
   "cell_type": "code",
   "execution_count": 65,
   "metadata": {},
   "outputs": [],
   "source": [
    "def main(fasta,codontable):\n",
    "    codonTable = parseCodonTable(codontable)\n",
    "    dna = parsefasta(fasta)\n",
    "    rna = dnaToRNA(dna)\n",
    "    revcomp = revC(dna)\n",
    "    rnarevcomp = dnaToRNA(revcomp)\n",
    "    proteinSet = set(readingFrames(rna,codonTable))\n",
    "    proteinSet.update(readingFrames(rnarevcomp, codonTable))\n",
    "    for x in proteinSet:\n",
    "        print(x)"
   ]
  },
  {
   "cell_type": "code",
   "execution_count": 68,
   "metadata": {},
   "outputs": [
    {
     "name": "stdout",
     "output_type": "stream",
     "text": [
      "MLLGSFRLIPKETLIQVAGSSPCNLS\n",
      "M\n",
      "MTPRLGLESLLE\n",
      "MGMTPRLGLESLLE\n"
     ]
    }
   ],
   "source": [
    "main(\"rosalind_orf.txt\",\"rosalind_codontable.txt\")"
   ]
  }
 ],
 "metadata": {
  "kernelspec": {
   "display_name": "Python 3",
   "language": "python",
   "name": "python3"
  },
  "language_info": {
   "codemirror_mode": {
    "name": "ipython",
    "version": 3
   },
   "file_extension": ".py",
   "mimetype": "text/x-python",
   "name": "python",
   "nbconvert_exporter": "python",
   "pygments_lexer": "ipython3",
   "version": "3.7.3"
  }
 },
 "nbformat": 4,
 "nbformat_minor": 4
}
