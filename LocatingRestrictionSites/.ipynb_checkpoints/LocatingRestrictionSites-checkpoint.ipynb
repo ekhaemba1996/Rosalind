{
 "cells": [
  {
   "cell_type": "code",
   "execution_count": 1,
   "metadata": {},
   "outputs": [],
   "source": [
    "import os\n",
    "import sys\n",
    "import re\n",
    "module_path = os.path.abspath(os.path.join('..'))\n",
    "if module_path not in sys.path:\n",
    "    sys.path.append(module_path)"
   ]
  },
  {
   "cell_type": "code",
   "execution_count": 2,
   "metadata": {},
   "outputs": [],
   "source": [
    "from commonModules import read_file, parse_FASTA, get_iter_slices"
   ]
  },
  {
   "cell_type": "code",
   "execution_count": 3,
   "metadata": {},
   "outputs": [
    {
     "data": {
      "text/plain": [
       "'>Rosalind_1851\\nTATAGGAGTACCACGCTGGTTTACCTTCGCTTCCCCTAGCCGCCTGACTGACACATGGCT\\nTGCAAAGTGGGCGTCGTTGCCAGAGGATTTGCAACAGTCGGGCTATGAGGGTGAGCGGAA\\nCCACTGCACAATGATGGCGGTTGTATGGCCAAAAGGACTCAGCACCTCATTCGCAGAACC\\nCGTGTTCACGTATGGGCCGTGGCTAGGCGTTTATACCTGGCAGTGTATGGACACGTAGCC\\nAACCGCAACCAATGTGCTACGAGAGCCTGGAAATGCGTGCGGCCAAGTCTAATGTTTCTG\\nAGTTTAGGTTCTTTTGCCGAGAACGGCGACGAGCTCAGCGTCGTTTCATGTACCGTGCGC\\nGCATCAATATCCGCTATGTGCCATGTCGAGATCTCTTTATATGCAGACGAAATCTTCCGG\\nAAGATCCGAGTATGATGCACGGGGCAAACAATGCGCCATCTAATATAGTCCTATAAGTTA\\nGTCGAGGAATGCTACTCCAGGGCACTGGTCACCAAACTAATGCCTTCGCCCGCTAGCCTG\\nGTACGAGTTTTAGTCAGATCATAGGCCGGTCGTTCTCTTATTATAGCAGACCACGTCGGT\\nGGCAAGAACTTGTCGCGAACACGTGTGGGAACTGCGGGTGGTTACCGAGGGCATGATCGC\\nTACTTAAGTCCGCCCGTAGTTATGTGCCTGCTGGTCCAATCGGATTCGACCTAATCCGCC\\nCTGCACGTTAATGCGACCTATTAATAGATGCTTAGGTATTATCACTTTTGAAAGGTGATA\\nTGGTCTGGTCTTGTATAGCTTAGAATTCTCATTGGATCTACTACCATCCCATGCGC\\n'"
      ]
     },
     "execution_count": 3,
     "metadata": {},
     "output_type": "execute_result"
    }
   ],
   "source": [
    "contents = read_file('rosalind_revp(3).txt')\n",
    "contents"
   ]
  },
  {
   "cell_type": "code",
   "execution_count": 4,
   "metadata": {},
   "outputs": [
    {
     "data": {
      "text/plain": [
       "{'Rosalind_1851': 'TATAGGAGTACCACGCTGGTTTACCTTCGCTTCCCCTAGCCGCCTGACTGACACATGGCTTGCAAAGTGGGCGTCGTTGCCAGAGGATTTGCAACAGTCGGGCTATGAGGGTGAGCGGAACCACTGCACAATGATGGCGGTTGTATGGCCAAAAGGACTCAGCACCTCATTCGCAGAACCCGTGTTCACGTATGGGCCGTGGCTAGGCGTTTATACCTGGCAGTGTATGGACACGTAGCCAACCGCAACCAATGTGCTACGAGAGCCTGGAAATGCGTGCGGCCAAGTCTAATGTTTCTGAGTTTAGGTTCTTTTGCCGAGAACGGCGACGAGCTCAGCGTCGTTTCATGTACCGTGCGCGCATCAATATCCGCTATGTGCCATGTCGAGATCTCTTTATATGCAGACGAAATCTTCCGGAAGATCCGAGTATGATGCACGGGGCAAACAATGCGCCATCTAATATAGTCCTATAAGTTAGTCGAGGAATGCTACTCCAGGGCACTGGTCACCAAACTAATGCCTTCGCCCGCTAGCCTGGTACGAGTTTTAGTCAGATCATAGGCCGGTCGTTCTCTTATTATAGCAGACCACGTCGGTGGCAAGAACTTGTCGCGAACACGTGTGGGAACTGCGGGTGGTTACCGAGGGCATGATCGCTACTTAAGTCCGCCCGTAGTTATGTGCCTGCTGGTCCAATCGGATTCGACCTAATCCGCCCTGCACGTTAATGCGACCTATTAATAGATGCTTAGGTATTATCACTTTTGAAAGGTGATATGGTCTGGTCTTGTATAGCTTAGAATTCTCATTGGATCTACTACCATCCCATGCGC'}"
      ]
     },
     "execution_count": 4,
     "metadata": {},
     "output_type": "execute_result"
    }
   ],
   "source": [
    "dna_dict = parse_FASTA(contents)\n",
    "dna_dict"
   ]
  },
  {
   "cell_type": "code",
   "execution_count": 5,
   "metadata": {},
   "outputs": [],
   "source": [
    "def get_rev(s):\n",
    "    return s[::-1]\n",
    "def get_complement_char(ch):\n",
    "    if ch == 'C':\n",
    "        return 'G'\n",
    "    elif ch == 'G':\n",
    "        return 'C'\n",
    "    elif ch == 'A':\n",
    "        return 'T'\n",
    "    elif ch == 'T':\n",
    "        return 'A'\n",
    "def get_complement_str(s):\n",
    "    return ''.join(list(map(get_complement_char, s)))\n",
    "def get_rev_complement(s):\n",
    "    return get_complement_str(get_rev(s))"
   ]
  },
  {
   "cell_type": "code",
   "execution_count": 6,
   "metadata": {},
   "outputs": [],
   "source": [
    "def get_subs(s):\n",
    "    res = []\n",
    "    for slice_length in range(4,13):\n",
    "        for index, substr in enumerate(get_iter_slices(s, slice_length, False)):\n",
    "            if substr == get_rev_complement(substr):\n",
    "                tup = ((index + 1), len(substr))\n",
    "                res.append(tup)\n",
    "    res.sort(reverse=False,key=lambda e: e[0])\n",
    "    return res"
   ]
  },
  {
   "cell_type": "code",
   "execution_count": 7,
   "metadata": {},
   "outputs": [
    {
     "name": "stdout",
     "output_type": "stream",
     "text": [
      "Rosalind_1851\n",
      "Sequence Length 836\n",
      "1 4\n",
      "8 4\n",
      "36 4\n",
      "54 4\n",
      "60 6\n",
      "61 4\n",
      "89 6\n",
      "90 4\n",
      "125 4\n",
      "146 6\n",
      "147 4\n",
      "188 4\n",
      "195 4\n",
      "203 4\n",
      "212 4\n",
      "233 4\n",
      "281 4\n",
      "331 6\n",
      "332 4\n",
      "347 4\n",
      "350 4\n",
      "356 8\n",
      "357 4\n",
      "357 6\n",
      "358 4\n",
      "359 4\n",
      "367 4\n",
      "382 4\n",
      "386 4\n",
      "388 8\n",
      "389 6\n",
      "390 4\n",
      "398 4\n",
      "399 4\n",
      "402 4\n",
      "413 12\n",
      "414 10\n",
      "415 8\n",
      "416 6\n",
      "417 4\n",
      "423 4\n",
      "436 4\n",
      "453 4\n",
      "463 4\n",
      "464 4\n",
      "472 4\n",
      "482 4\n",
      "532 6\n",
      "533 4\n",
      "541 4\n",
      "557 4\n",
      "564 4\n",
      "566 4\n",
      "582 4\n",
      "593 4\n",
      "613 6\n",
      "614 4\n",
      "619 8\n",
      "620 6\n",
      "621 4\n",
      "652 4\n",
      "655 4\n",
      "662 8\n",
      "663 6\n",
      "664 4\n",
      "706 4\n",
      "722 4\n",
      "725 4\n",
      "728 4\n",
      "738 10\n",
      "739 8\n",
      "740 6\n",
      "741 4\n",
      "778 4\n",
      "794 4\n",
      "797 4\n",
      "802 8\n",
      "803 6\n",
      "804 4\n",
      "815 4\n",
      "830 4\n",
      "833 4\n"
     ]
    }
   ],
   "source": [
    "for key in dna_dict:\n",
    "    print(key)\n",
    "    answer = get_subs(dna_dict[key])\n",
    "    for index, length in answer:\n",
    "        print(index, length)"
   ]
  },
  {
   "cell_type": "code",
   "execution_count": null,
   "metadata": {},
   "outputs": [],
   "source": []
  },
  {
   "cell_type": "code",
   "execution_count": null,
   "metadata": {},
   "outputs": [],
   "source": []
  }
 ],
 "metadata": {
  "kernelspec": {
   "display_name": "Python 3",
   "language": "python",
   "name": "python3"
  },
  "language_info": {
   "codemirror_mode": {
    "name": "ipython",
    "version": 3
   },
   "file_extension": ".py",
   "mimetype": "text/x-python",
   "name": "python",
   "nbconvert_exporter": "python",
   "pygments_lexer": "ipython3",
   "version": "3.7.3"
  }
 },
 "nbformat": 4,
 "nbformat_minor": 2
}
