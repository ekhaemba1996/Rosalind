{
 "cells": [
  {
   "cell_type": "code",
   "execution_count": 1,
   "metadata": {},
   "outputs": [],
   "source": [
    "def dominantProb(x='k',y='k'):\n",
    "    if x == 'k' or y =='k':\n",
    "        return 1\n",
    "    if x == 'm':\n",
    "        if y == 'm':\n",
    "            return (3/4)\n",
    "        if y == 'n':\n",
    "            return (1/2)\n",
    "    if x == 'n':\n",
    "        if y == 'n':\n",
    "            return 0\n",
    "        if y == 'm':\n",
    "            return (1/2)"
   ]
  },
  {
   "cell_type": "code",
   "execution_count": 2,
   "metadata": {},
   "outputs": [],
   "source": [
    "def drawProb(x, y, pop, first='k', second='k'):\n",
    "    if first == second:\n",
    "        return (x/pop)*((x-1)/(pop-1))\n",
    "    else:\n",
    "        return (x/pop)*(y/(pop-1))"
   ]
  },
  {
   "cell_type": "code",
   "execution_count": 3,
   "metadata": {},
   "outputs": [],
   "source": [
    "# Calculates the probability of an offspring possessing a dominant trait given the population distribution values\n",
    "def probPossessingDominant(k, m, n):\n",
    "    total_count = m + n + k\n",
    "    k_branch_prob = drawProb(k,k,total_count,'k','k')*dominantProb('k','k') + drawProb(k,m,total_count,'k','m')*dominantProb('k','m') + drawProb(k,n,total_count,'k','n')*dominantProb('k','n ')\n",
    "    m_branch_prob = drawProb(m,m,total_count,'m','m')*dominantProb('m','m') + drawProb(m,k,total_count,'m','k')*dominantProb('m','k') + drawProb(m,n,total_count,'m','n')*dominantProb('m','n')\n",
    "    n_branch_prob = drawProb(n,n,total_count,'n','n')*dominantProb('n','n') + drawProb(n,m,total_count,'n','m')*dominantProb('n','m') + drawProb(n,k,total_count,'n','k')*dominantProb('n','k')\n",
    "    return k_branch_prob + m_branch_prob + n_branch_prob"
   ]
  },
  {
   "cell_type": "code",
   "execution_count": 4,
   "metadata": {},
   "outputs": [
    {
     "name": "stdout",
     "output_type": "stream",
     "text": [
      "0.7972047389855608\n"
     ]
    }
   ],
   "source": [
    "result = probPossessingDominant(27,27,20)\n",
    "print(result)"
   ]
  },
  {
   "cell_type": "markdown",
   "metadata": {},
   "source": [
    "Now for fun let's do it in a more simulated way"
   ]
  },
  {
   "cell_type": "code",
   "execution_count": 5,
   "metadata": {},
   "outputs": [],
   "source": [
    "from itertools import combinations, chain"
   ]
  },
  {
   "cell_type": "code",
   "execution_count": 6,
   "metadata": {},
   "outputs": [],
   "source": [
    "def probabilitySimulation(k, m, n):\n",
    "    # Create the population distribution\n",
    "    x = list(chain(*[['k']*k, ['m']*m, ['n']*n]))\n",
    "    # Create every pairing\n",
    "    knms = list(combinations(x,2))\n",
    "    # Calculate the probability of a dominant pairing given the pairs list\n",
    "    probability_list = list(map(lambda x: (x, dominantProb(x[0],x[1])), knms))\n",
    "    # The probability of a dominant pairing is the sum quotient of the amount of pairs\n",
    "    result = sum([val[1] for val in probability_list])/len(probability_list)\n",
    "    return result"
   ]
  },
  {
   "cell_type": "code",
   "execution_count": 7,
   "metadata": {},
   "outputs": [
    {
     "name": "stdout",
     "output_type": "stream",
     "text": [
      "0.7972047389855609\n"
     ]
    }
   ],
   "source": [
    "result = probabilitySimulation(27, 27, 20)\n",
    "print(result)"
   ]
  }
 ],
 "metadata": {
  "kernelspec": {
   "display_name": "Python 3",
   "language": "python",
   "name": "python3"
  },
  "language_info": {
   "codemirror_mode": {
    "name": "ipython",
    "version": 3
   },
   "file_extension": ".py",
   "mimetype": "text/x-python",
   "name": "python",
   "nbconvert_exporter": "python",
   "pygments_lexer": "ipython3",
   "version": "3.7.3"
  }
 },
 "nbformat": 4,
 "nbformat_minor": 2
}
