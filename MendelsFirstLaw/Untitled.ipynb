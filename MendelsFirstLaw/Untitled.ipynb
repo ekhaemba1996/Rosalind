{
 "cells": [
  {
   "cell_type": "code",
   "execution_count": 1,
   "metadata": {},
   "outputs": [],
   "source": [
    "def mendelevianProb(x='k',y='k'):\n",
    "    if x == 'k' or y =='k':\n",
    "        return 1\n",
    "    if x == 'm':\n",
    "        if y == 'm':\n",
    "            return (3/4)\n",
    "        if y == 'n':\n",
    "            return (1/2)\n",
    "    if x == 'n':\n",
    "        if y == 'n':\n",
    "            return 0\n",
    "        if y == 'm':\n",
    "            return (1/2)\n",
    "def drawProb(x, y, pop, first='k', second='k'):\n",
    "    if first == second:\n",
    "        return (x/pop)*((x-1)/(pop-1))\n",
    "    else:\n",
    "        return (x/pop)*(y/(pop-1))\n",
    "def probPossessingDominant(k, m, n):\n",
    "    total_count = m + n + k\n",
    "    k_branch_prob = (k/total_count)*((k-1)/(total_count-1))*mendelevianProb('k','k') + (k/total_count)*(m/(total_count-1))*mendelevianProb('k','m') + (k/total_count)*(n/(total_count-1))*mendelevianProb('k','n')\n",
    "    m_branch_prob = (m/total_count)*((m-1)/(total_count-1))*mendelevianProb('m','m') + (m/total_count)*(k/(total_count-1))*mendelevianProb('m','k') + (m/total_count)*(n/(total_count-1))*mendelevianProb('m','n')\n",
    "    n_branch_prob = (n/total_count)*((n-1)/(total_count-1))*mendelevianProb('n','n') + (n/total_count)*(m/(total_count-1))*mendelevianProb('n','m') + (n/total_count)*(k/(total_count-1))*mendelevianProb('n','k')\n",
    "    return k_branch_prob + m_branch_prob + n_branch_prob"
   ]
  },
  {
   "cell_type": "code",
   "execution_count": 2,
   "metadata": {},
   "outputs": [
    {
     "data": {
      "text/plain": [
       "0.7972047389855608"
      ]
     },
     "execution_count": 2,
     "metadata": {},
     "output_type": "execute_result"
    }
   ],
   "source": [
    "probPossessingDominant(27,27,20)"
   ]
  },
  {
   "cell_type": "code",
   "execution_count": 11,
   "metadata": {},
   "outputs": [
    {
     "name": "stdout",
     "output_type": "stream",
     "text": [
      "['k', 'k', 'm', 'm', 'n', 'n']\n",
      "[('k', 'k'), ('k', 'm'), ('k', 'm'), ('k', 'n'), ('k', 'n'), ('k', 'm'), ('k', 'm'), ('k', 'n'), ('k', 'n'), ('m', 'm'), ('m', 'n'), ('m', 'n'), ('m', 'n'), ('m', 'n'), ('n', 'n')]\n",
      "0.7833333333333333\n"
     ]
    }
   ],
   "source": [
    "from itertools import combinations, chain\n",
    "x = list(chain(*[['k']*2, ['m']*2, ['n']*2]))\n",
    "print(x)\n",
    "knms = list(combinations(x,2))\n",
    "print(knms)\n",
    "result = list(map(lambda x: (x, mendelevianProb(x[0],x[1])), knms))\n",
    "print(sum([val[1] for val in result])/len(result))"
   ]
  },
  {
   "cell_type": "code",
   "execution_count": null,
   "metadata": {},
   "outputs": [],
   "source": [
    "[('k',2), ('m', 2), ('n', 2)] "
   ]
  }
 ],
 "metadata": {
  "kernelspec": {
   "display_name": "Python 3",
   "language": "python",
   "name": "python3"
  },
  "language_info": {
   "codemirror_mode": {
    "name": "ipython",
    "version": 3
   },
   "file_extension": ".py",
   "mimetype": "text/x-python",
   "name": "python",
   "nbconvert_exporter": "python",
   "pygments_lexer": "ipython3",
   "version": "3.7.3"
  }
 },
 "nbformat": 4,
 "nbformat_minor": 2
}
